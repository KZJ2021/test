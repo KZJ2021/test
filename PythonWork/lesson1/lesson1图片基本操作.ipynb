{
 "cells": [
  {
   "cell_type": "markdown",
   "id": "236d0c5a",
   "metadata": {},
   "source": [
    "* **import** 模块名1 [as 别名1]   //导入安装过的模块,可定义别名\n",
    "* **matplotlib.pyplot**  Matplotlib 是一个 Python 的 2D 绘图库，它以各种硬拷贝格式和跨平台的交互式环境生成出版质量级别   的图形。通过 Matplotlib，开发者可以仅需要几行代码，便可以生成绘图，直方图，功率谱，条形图，错误图，散点图等。\n",
    "* **numpy** 基础数值计算\n",
    "* **%matplotlib inline** %开头表示魔法命令,该命令只在notebook中有用，将matplotlib图标嵌入notebook\n",
    "\n",
    "* **img=cv2.imread('name.jpg')** 读取工作目录下图片，赋值给变量img，name不要为中文"
   ]
  },
  {
   "cell_type": "code",
   "execution_count": 4,
   "id": "2d42e69a",
   "metadata": {},
   "outputs": [],
   "source": [
    "import cv2 #opencv读取的格式是BGR\n",
    "import matplotlib.pyplot as plt\n",
    "import numpy as np\n",
    "%matplotlib inline\n",
    "\n",
    "img=cv2.imread('pic1.jpg')"
   ]
  },
  {
   "cell_type": "code",
   "execution_count": 5,
   "id": "ab8348da",
   "metadata": {},
   "outputs": [
    {
     "data": {
      "text/plain": [
       "array([[[206, 206, 206],\n",
       "        [206, 206, 206],\n",
       "        [206, 206, 206],\n",
       "        ...,\n",
       "        [175, 175, 175],\n",
       "        [175, 175, 175],\n",
       "        [175, 175, 175]],\n",
       "\n",
       "       [[206, 206, 206],\n",
       "        [206, 206, 206],\n",
       "        [206, 206, 206],\n",
       "        ...,\n",
       "        [175, 175, 175],\n",
       "        [175, 175, 175],\n",
       "        [175, 175, 175]],\n",
       "\n",
       "       [[206, 206, 206],\n",
       "        [206, 206, 206],\n",
       "        [206, 206, 206],\n",
       "        ...,\n",
       "        [175, 175, 175],\n",
       "        [175, 175, 175],\n",
       "        [175, 175, 175]],\n",
       "\n",
       "       ...,\n",
       "\n",
       "       [[255, 255, 255],\n",
       "        [255, 255, 255],\n",
       "        [255, 255, 255],\n",
       "        ...,\n",
       "        [255, 255, 255],\n",
       "        [255, 255, 255],\n",
       "        [255, 255, 255]],\n",
       "\n",
       "       [[255, 255, 255],\n",
       "        [255, 255, 255],\n",
       "        [255, 255, 255],\n",
       "        ...,\n",
       "        [255, 255, 255],\n",
       "        [255, 255, 255],\n",
       "        [255, 255, 255]],\n",
       "\n",
       "       [[255, 255, 255],\n",
       "        [255, 255, 255],\n",
       "        [255, 255, 255],\n",
       "        ...,\n",
       "        [255, 255, 255],\n",
       "        [255, 255, 255],\n",
       "        [255, 255, 255]]], dtype=uint8)"
      ]
     },
     "execution_count": 5,
     "metadata": {},
     "output_type": "execute_result"
    }
   ],
   "source": [
    "img"
   ]
  },
  {
   "cell_type": "code",
   "execution_count": 6,
   "id": "4660c40c",
   "metadata": {},
   "outputs": [],
   "source": [
    "#图像的显示，也可以创建多个窗口\n",
    "cv2.imshow('imge',img)\n",
    "#等待时间,毫秒级，0表示任意键终止\n",
    "cv2.waitKey(0)\n",
    "cv2.destroyAllWindows()"
   ]
  },
  {
   "cell_type": "code",
   "execution_count": 7,
   "id": "e9b2ab77",
   "metadata": {},
   "outputs": [],
   "source": [
    "def cv_show(name,img):\n",
    "    img=cv2.imread('pic1.jpg')\n",
    "    cv2.imshow('name',img)\n",
    "    cv2.waitKey(0)\n",
    "    cv2.destroyAllWindows()"
   ]
  },
  {
   "cell_type": "code",
   "execution_count": 8,
   "id": "58734d53",
   "metadata": {},
   "outputs": [
    {
     "data": {
      "text/plain": [
       "(716, 1084, 3)"
      ]
     },
     "execution_count": 8,
     "metadata": {},
     "output_type": "execute_result"
    }
   ],
   "source": [
    "img.shape"
   ]
  },
  {
   "cell_type": "code",
   "execution_count": 9,
   "id": "3ab06a64",
   "metadata": {},
   "outputs": [],
   "source": [
    "img=cv2.imread('pic1.jpg',cv2.IMREAD_GRAYSCALE)"
   ]
  },
  {
   "cell_type": "code",
   "execution_count": 10,
   "id": "8c122496",
   "metadata": {},
   "outputs": [
    {
     "data": {
      "text/plain": [
       "(716, 1084)"
      ]
     },
     "execution_count": 10,
     "metadata": {},
     "output_type": "execute_result"
    }
   ],
   "source": [
    "img.shape"
   ]
  },
  {
   "cell_type": "code",
   "execution_count": 13,
   "id": "289f21d2",
   "metadata": {},
   "outputs": [],
   "source": [
    "cv2.imshow('windows1',img)\n",
    "cv2.waitKey(0)\n",
    "cv2.destroyAllWindows()"
   ]
  },
  {
   "cell_type": "code",
   "execution_count": null,
   "id": "a0ca819b",
   "metadata": {},
   "outputs": [],
   "source": []
  },
  {
   "cell_type": "code",
   "execution_count": null,
   "id": "5ff61ba7",
   "metadata": {},
   "outputs": [],
   "source": []
  }
 ],
 "metadata": {
  "kernelspec": {
   "display_name": "Python 3",
   "language": "python",
   "name": "python3"
  },
  "language_info": {
   "codemirror_mode": {
    "name": "ipython",
    "version": 3
   },
   "file_extension": ".py",
   "mimetype": "text/x-python",
   "name": "python",
   "nbconvert_exporter": "python",
   "pygments_lexer": "ipython3",
   "version": "3.8.8"
  }
 },
 "nbformat": 4,
 "nbformat_minor": 5
}
