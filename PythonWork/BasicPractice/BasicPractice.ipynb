{
 "cells": [
  {
   "cell_type": "markdown",
   "id": "12459bbc",
   "metadata": {},
   "source": [
    "####  ---------list练习---------"
   ]
  },
  {
   "cell_type": "code",
   "execution_count": 2,
   "id": "465d4cc1",
   "metadata": {},
   "outputs": [
    {
     "data": {
      "text/plain": [
       "['Michael', 'Bob', 'Tracy']"
      ]
     },
     "execution_count": 2,
     "metadata": {},
     "output_type": "execute_result"
    }
   ],
   "source": [
    "classmates = ['Michael','Bob','Tracy']\n",
    "classmates"
   ]
  },
  {
   "cell_type": "markdown",
   "id": "8fd52e1c",
   "metadata": {},
   "source": [
    "len(classmates)"
   ]
  },
  {
   "cell_type": "code",
   "execution_count": 8,
   "id": "a944096a",
   "metadata": {},
   "outputs": [
    {
     "data": {
      "text/plain": [
       "'Tracy'"
      ]
     },
     "execution_count": 8,
     "metadata": {},
     "output_type": "execute_result"
    }
   ],
   "source": [
    "classmates[2]"
   ]
  },
  {
   "cell_type": "code",
   "execution_count": 12,
   "id": "025b022c",
   "metadata": {},
   "outputs": [
    {
     "data": {
      "text/plain": [
       "['Michael', 'Jack', 'Bob', 'Tracy', 'Adam', 'Adam', 'Adam']"
      ]
     },
     "execution_count": 12,
     "metadata": {},
     "output_type": "execute_result"
    }
   ],
   "source": [
    "classmates.append('Adam')\n",
    "classmates"
   ]
  },
  {
   "cell_type": "code",
   "execution_count": 14,
   "id": "b6b54918",
   "metadata": {},
   "outputs": [
    {
     "data": {
      "text/plain": [
       "['Michael', 'Jack', 'Jack', 'Jack', 'Bob', 'Tracy', 'Adam', 'Adam', 'Adam']"
      ]
     },
     "execution_count": 14,
     "metadata": {},
     "output_type": "execute_result"
    }
   ],
   "source": [
    "classmates.insert(1,'Jack')\n",
    "classmates"
   ]
  },
  {
   "cell_type": "code",
   "execution_count": 21,
   "id": "d72a9019",
   "metadata": {},
   "outputs": [
    {
     "data": {
      "text/plain": [
       "'Adam'"
      ]
     },
     "execution_count": 21,
     "metadata": {},
     "output_type": "execute_result"
    }
   ],
   "source": [
    "classmates.pop()"
   ]
  },
  {
   "cell_type": "code",
   "execution_count": 23,
   "id": "6f8d155a",
   "metadata": {},
   "outputs": [
    {
     "data": {
      "text/plain": [
       "['Michael', 'Jack', 'Jack', 'Jack', 'Bob', 'Tracy']"
      ]
     },
     "execution_count": 23,
     "metadata": {},
     "output_type": "execute_result"
    }
   ],
   "source": [
    "classmates"
   ]
  },
  {
   "cell_type": "code",
   "execution_count": 25,
   "id": "ed670403",
   "metadata": {},
   "outputs": [
    {
     "data": {
      "text/plain": [
       "['Michael', 'Jack', 'Bob', 'Tracy']"
      ]
     },
     "execution_count": 25,
     "metadata": {},
     "output_type": "execute_result"
    }
   ],
   "source": [
    "classmates.pop(1)\n",
    "classmates"
   ]
  },
  {
   "cell_type": "code",
   "execution_count": 29,
   "id": "be72ef99",
   "metadata": {},
   "outputs": [
    {
     "data": {
      "text/plain": [
       "['Michael', 'Kzj', 'Bob', 'Tracy']"
      ]
     },
     "execution_count": 29,
     "metadata": {},
     "output_type": "execute_result"
    }
   ],
   "source": [
    "classmates[1] = 'Kzj'\n",
    "classmates"
   ]
  },
  {
   "cell_type": "code",
   "execution_count": 36,
   "id": "33a971ec",
   "metadata": {},
   "outputs": [
    {
     "name": "stdout",
     "output_type": "stream",
     "text": [
      "4\n"
     ]
    },
    {
     "data": {
      "text/plain": [
       "'php'"
      ]
     },
     "execution_count": 36,
     "metadata": {},
     "output_type": "execute_result"
    }
   ],
   "source": [
    "s = ['python', 'java', ['asp', 'php'], 'scheme']\n",
    "print(len(s))\n",
    "s[2][1]"
   ]
  },
  {
   "cell_type": "code",
   "execution_count": 33,
   "id": "50cf0753",
   "metadata": {},
   "outputs": [
    {
     "data": {
      "text/plain": [
       "['abc', 100, 200, True, 300]"
      ]
     },
     "execution_count": 33,
     "metadata": {},
     "output_type": "execute_result"
    }
   ],
   "source": [
    "num1 = 100\n",
    "num2 = 200\n",
    "test = ['abc',num1,num2,True,num1+num2]\n",
    "test"
   ]
  },
  {
   "cell_type": "markdown",
   "id": "ac8fc68f",
   "metadata": {},
   "source": [
    "### --------------------tuple练习---------------"
   ]
  },
  {
   "cell_type": "code",
   "execution_count": 40,
   "id": "82cf5144",
   "metadata": {},
   "outputs": [
    {
     "data": {
      "text/plain": [
       "()"
      ]
     },
     "execution_count": 40,
     "metadata": {},
     "output_type": "execute_result"
    }
   ],
   "source": [
    "t = ()\n",
    "t"
   ]
  },
  {
   "cell_type": "code",
   "execution_count": 42,
   "id": "5d4e6ab9",
   "metadata": {},
   "outputs": [
    {
     "data": {
      "text/plain": [
       "(1,)"
      ]
     },
     "execution_count": 42,
     "metadata": {},
     "output_type": "execute_result"
    }
   ],
   "source": [
    "t = (1,)\n",
    "t"
   ]
  },
  {
   "cell_type": "code",
   "execution_count": 43,
   "id": "1820ffb0",
   "metadata": {},
   "outputs": [
    {
     "data": {
      "text/plain": [
       "('a', 'b', ['X', 'Y'])"
      ]
     },
     "execution_count": 43,
     "metadata": {},
     "output_type": "execute_result"
    }
   ],
   "source": [
    "t= ('a','b',['A','B'])\n",
    "t[2][0] = 'X'\n",
    "t[2][1] = 'Y'\n",
    "t"
   ]
  },
  {
   "cell_type": "markdown",
   "id": "e6421fc4",
   "metadata": {},
   "source": [
    "### --------print()和input()----------------"
   ]
  },
  {
   "cell_type": "code",
   "execution_count": 45,
   "id": "a9b77a98",
   "metadata": {},
   "outputs": [
    {
     "name": "stdout",
     "output_type": "stream",
     "text": [
      "num1 = d% num2 = d%  100 200\n"
     ]
    }
   ],
   "source": [
    "num1 = 100\n",
    "num2 = 200 \n",
    "print('num1 = d% num2 = d% ',num1,num2)"
   ]
  },
  {
   "cell_type": "code",
   "execution_count": 47,
   "id": "583bfad3",
   "metadata": {},
   "outputs": [
    {
     "name": "stdout",
     "output_type": "stream",
     "text": [
      "kzj\n"
     ]
    }
   ],
   "source": [
    "name = input()"
   ]
  },
  {
   "cell_type": "code",
   "execution_count": 48,
   "id": "72be7176",
   "metadata": {},
   "outputs": [
    {
     "data": {
      "text/plain": [
       "'kzj'"
      ]
     },
     "execution_count": 48,
     "metadata": {},
     "output_type": "execute_result"
    }
   ],
   "source": [
    "name"
   ]
  },
  {
   "cell_type": "code",
   "execution_count": 49,
   "id": "4122675b",
   "metadata": {},
   "outputs": [
    {
     "name": "stdout",
     "output_type": "stream",
     "text": [
      "please enter your name: KZJ\n",
      "hello, KZJ\n"
     ]
    }
   ],
   "source": [
    "name = input('please enter your name: ')\n",
    "print('hello,',name)"
   ]
  },
  {
   "cell_type": "code",
   "execution_count": 1,
   "id": "66e11dcd",
   "metadata": {},
   "outputs": [
    {
     "name": "stdout",
     "output_type": "stream",
     "text": [
      "Help on built-in function abs in module builtins:\n",
      "\n",
      "abs(x, /)\n",
      "    Return the absolute value of the argument.\n",
      "\n"
     ]
    }
   ],
   "source": [
    "help(abs)"
   ]
  },
  {
   "cell_type": "code",
   "execution_count": 3,
   "id": "c297ec05",
   "metadata": {},
   "outputs": [
    {
     "data": {
      "text/plain": [
       "9"
      ]
     },
     "execution_count": 3,
     "metadata": {},
     "output_type": "execute_result"
    }
   ],
   "source": [
    "def my_abs(x):\n",
    "    if x >=0:\n",
    "        return x\n",
    "    else:\n",
    "        return -x\n",
    "my_abs(-9)"
   ]
  }
 ],
 "metadata": {
  "kernelspec": {
   "display_name": "Python 3",
   "language": "python",
   "name": "python3"
  },
  "language_info": {
   "codemirror_mode": {
    "name": "ipython",
    "version": 3
   },
   "file_extension": ".py",
   "mimetype": "text/x-python",
   "name": "python",
   "nbconvert_exporter": "python",
   "pygments_lexer": "ipython3",
   "version": "3.8.8"
  }
 },
 "nbformat": 4,
 "nbformat_minor": 5
}
